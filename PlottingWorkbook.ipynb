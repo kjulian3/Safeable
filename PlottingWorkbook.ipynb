{
 "cells": [
  {
   "cell_type": "code",
   "execution_count": null,
   "metadata": {},
   "outputs": [],
   "source": [
    "import numpy as np\n",
    "from safeable import *\n",
    "from advisoryParams import *\n",
    "from plotPolicy import *\n",
    "from matplotlib2tikz import save as tikz_save # For saving to tikz for LaTex\n",
    "\n",
    "%load_ext autoreload\n",
    "%autoreload 2\n",
    "%matplotlib inline"
   ]
  },
  {
   "cell_type": "markdown",
   "metadata": {},
   "source": [
    "### Running Example\n",
    "\n",
    "Feel free to change values and re-run everything"
   ]
  },
  {
   "cell_type": "code",
   "execution_count": null,
   "metadata": {},
   "outputs": [],
   "source": [
    "pra = SCL1500\n",
    "ra = CL1500\n",
    "pd = 0\n",
    "eps= 1\n",
    "v = [-15,-5]\n",
    "\n",
    "advisory = advisoryParams(ra,pd=pd,eps=eps)"
   ]
  },
  {
   "cell_type": "markdown",
   "metadata": {},
   "source": [
    "### Plot safeable boundaries"
   ]
  },
  {
   "cell_type": "code",
   "execution_count": null,
   "metadata": {},
   "outputs": [],
   "source": [
    "trajMin,trajMax,boundMin,boundMax = getSafeable(advisory,v,worstCase=False)\n",
    "ax = plotBounds(boundMin,boundMax,trajMin,trajMax,withTraj=True,c='k',name=\"Safeable Example\")"
   ]
  },
  {
   "cell_type": "markdown",
   "metadata": {},
   "source": [
    "### Assume worst case tau"
   ]
  },
  {
   "cell_type": "code",
   "execution_count": null,
   "metadata": {},
   "outputs": [],
   "source": [
    "trajMin,trajMax,boundMin,boundMax = getSafeable(advisory,v,worstCase=True)  # worstCase is true by default\n",
    "ax = plotBounds(boundMin,boundMax,trajMin,trajMax,withTraj=True, c='r', name=\"Safeable Example, Worst Case\")"
   ]
  },
  {
   "cell_type": "markdown",
   "metadata": {},
   "source": [
    "### Combine plots onto one axes"
   ]
  },
  {
   "cell_type": "code",
   "execution_count": null,
   "metadata": {},
   "outputs": [],
   "source": [
    "# This shows that you can turn off the trajectories, add labels, and draw the legend\n",
    "trajMin,trajMax,boundMin,boundMax = getSafeable(advisory,v,worstCase=False)\n",
    "ax = plotBounds(boundMin,boundMax,trajMin,trajMax,withTraj=False,c='k',name=\"Safeable Example\", label=\"Original Safeable\")\n",
    "\n",
    "trajMin,trajMax,boundMin,boundMax = getSafeable(advisory,v,worstCase=True)  # worstCase is true by default\n",
    "plotBounds(boundMin,boundMax,trajMin,trajMax,axes = ax, withTraj=False, c='r--', name=\"Safeable Example\", label=\"Worst Case\")\n",
    "ax.legend()"
   ]
  },
  {
   "cell_type": "markdown",
   "metadata": {},
   "source": [
    "### Plot all Safeable regions on one axes"
   ]
  },
  {
   "cell_type": "code",
   "execution_count": null,
   "metadata": {},
   "outputs": [],
   "source": [
    "plotUnsafe = True # Set to true if you also want to show the unsafe-for-all region\n",
    "plotAll(pra,v,plotUnsafe=plotUnsafe)"
   ]
  },
  {
   "cell_type": "markdown",
   "metadata": {},
   "source": [
    "### Plot safeable advisory and the unsafe-for-all region"
   ]
  },
  {
   "cell_type": "code",
   "execution_count": null,
   "metadata": {},
   "outputs": [],
   "source": [
    "_,_,boundMin,boundMax = getSafeable(advisory,v,worstCase=True)  # worstCase is true by default\n",
    "axes=plotBounds(boundMin,boundMax,name=\"Safeable Example\", label=\"Safeable\")\n",
    "\n",
    "boundMin,boundMax = getUnsafeRegion(pra,v,pd,eps)\n",
    "axes = plotBounds(boundMin,boundMax,axes=axes,c='r',label='Unsafe for all')\n",
    "axes.legend()"
   ]
  },
  {
   "cell_type": "markdown",
   "metadata": {},
   "source": [
    "### Plot unsafeable region"
   ]
  },
  {
   "cell_type": "code",
   "execution_count": null,
   "metadata": {},
   "outputs": [],
   "source": [
    "plotGetRegionToCheck(pra,ra,v,pd,eps)"
   ]
  },
  {
   "cell_type": "markdown",
   "metadata": {},
   "source": [
    "### Plot safeable regions with colors filled"
   ]
  },
  {
   "cell_type": "code",
   "execution_count": null,
   "metadata": {},
   "outputs": [],
   "source": [
    "nbin = 350\n",
    "plotSafeableAdvisory(pra,ra,v,pd,eps,nbin=nbin,withTraj=True)"
   ]
  },
  {
   "cell_type": "markdown",
   "metadata": {},
   "source": [
    "### Plot under/over approximations of the unsafeable regions\n",
    "\n",
    "Linearization resolution\n",
    "\n",
    "* dt: Full length of line segment\n",
    "\n",
    "* dti: Spacing of linear bounds\n",
    "\n",
    "dt should always be an integer multiple of dti and **at least twice** dti"
   ]
  },
  {
   "cell_type": "code",
   "execution_count": null,
   "metadata": {},
   "outputs": [],
   "source": [
    "dt = 1.25\n",
    "dti=0.0625"
   ]
  },
  {
   "cell_type": "code",
   "execution_count": null,
   "metadata": {
    "scrolled": false
   },
   "outputs": [],
   "source": [
    "ax = plotGetRegionToCheck(pra,ra,v,pd,eps,label=\"True\")\n",
    "plotGetRegionToCheck(pra,ra,v,pd,eps,c='c',axes=ax,name=\"Over Approximate\",label=\"Approx\",approx=True,overApprox=True,dt=dt,dti=dti)\n",
    "ax.legend()"
   ]
  },
  {
   "cell_type": "code",
   "execution_count": null,
   "metadata": {},
   "outputs": [],
   "source": [
    "ax = plotGetRegionToCheck(pra,ra,v,pd,eps,label=\"True\")\n",
    "plotGetRegionToCheck(pra,ra,v,pd,eps,label=\"Approx\",c='y',axes=ax,name=\"Under Approximate\",approx=True,overApprox=False,dt=1.0,dti=0.0625)\n",
    "ax.legend()"
   ]
  },
  {
   "cell_type": "markdown",
   "metadata": {},
   "source": [
    "### Plot policy with unsafeable region"
   ]
  },
  {
   "cell_type": "code",
   "execution_count": null,
   "metadata": {
    "scrolled": false
   },
   "outputs": [],
   "source": [
    "plotSafeablePolicy(pra,ra,v,pd,eps,useTable=False)"
   ]
  },
  {
   "cell_type": "markdown",
   "metadata": {},
   "source": [
    "### How to save to tikz for use in LaTex\n",
    "\n",
    "Adding the tikz_save command after any of these plots will save the plot to a tex plot."
   ]
  },
  {
   "cell_type": "code",
   "execution_count": null,
   "metadata": {},
   "outputs": [],
   "source": [
    "plotSafeablePolicy(pra,ra,v,pd,eps,useTable=False,drawLegend=False,)\n",
    "tikz_save(\"Pics/SafeableExample.tex\")"
   ]
  }
 ],
 "metadata": {
  "kernelspec": {
   "display_name": "Python 3",
   "language": "python",
   "name": "python3"
  },
  "language_info": {
   "codemirror_mode": {
    "name": "ipython",
    "version": 3
   },
   "file_extension": ".py",
   "mimetype": "text/x-python",
   "name": "python",
   "nbconvert_exporter": "python",
   "pygments_lexer": "ipython3",
   "version": "3.5.0"
  }
 },
 "nbformat": 4,
 "nbformat_minor": 2
}
