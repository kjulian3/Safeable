{
 "cells": [
  {
   "cell_type": "code",
   "execution_count": 9,
   "metadata": {},
   "outputs": [
    {
     "name": "stdout",
     "output_type": "stream",
     "text": [
      "The autoreload extension is already loaded. To reload it, use:\n",
      "  %reload_ext autoreload\n"
     ]
    }
   ],
   "source": [
    "import numpy as np\n",
    "from safeable import *\n",
    "from advisoryParams import *\n",
    "from reluplexFunctions import *\n",
    "\n",
    "%load_ext autoreload\n",
    "%autoreload 2\n",
    "%matplotlib inline"
   ]
  },
  {
   "cell_type": "markdown",
   "metadata": {},
   "source": [
    "### Example for running reluplex to check regions"
   ]
  },
  {
   "cell_type": "code",
   "execution_count": 10,
   "metadata": {},
   "outputs": [
    {
     "name": "stdout",
     "output_type": "stream",
     "text": [
      "Checking pRA network: COC, Advisory: DES1500\n",
      "Speed Range: [0, 2]\n",
      "\n",
      "SAT: 0\n",
      "Pra: COC, RA: DES1500\n",
      "Inputs:\n",
      "h   = 0.9460799408971383\n",
      "dh0 = 0.6943387056208997\n",
      "dh1 = 0.0\n",
      "tau = 6.0\n",
      "Outputs:\n",
      "COC = -1.010559188528332\n",
      "DNC = -1.8448733006622147\n",
      "DND = -1.2680533306329211\n",
      "DES1500 = -0.8798752367174077\n",
      "CL1500 = -1.0946502681181896\n",
      "SDES1500 = -2.096757472568947\n",
      "SCL1500 = -2.1417434378490263\n",
      "SDES2500 = -2.0785041949173575\n",
      "SCL2500 = -2.1208530906698133\n"
     ]
    }
   ],
   "source": [
    "pra=COC\n",
    "ra=DES1500\n",
    "vmin = 0\n",
    "vmax = 2\n",
    "overApprox = False\n",
    "dt = 0.25\n",
    "checkRegion(pra,ra,vmin,vmax,overApprox=overApprox,dt=dt)"
   ]
  },
  {
   "cell_type": "code",
   "execution_count": 11,
   "metadata": {},
   "outputs": [
    {
     "name": "stdout",
     "output_type": "stream",
     "text": [
      "Checking pRA network: COC, Advisory: CL1500\n",
      "Speed Range: [0, 2]\n",
      "\n",
      "UNSAT: 0\n",
      "Pra: COC, RA: CL1500\n",
      "\n",
      "UNSAT: 1\n",
      "Pra: COC, RA: CL1500\n",
      "\n",
      "UNSAT: 2\n",
      "Pra: COC, RA: CL1500\n"
     ]
    }
   ],
   "source": [
    "ra=CL1500\n",
    "overApprox = True\n",
    "checkRegion(pra,ra,vmin,vmax,overApprox=overApprox,dt=dt)"
   ]
  },
  {
   "cell_type": "code",
   "execution_count": null,
   "metadata": {},
   "outputs": [],
   "source": []
  }
 ],
 "metadata": {
  "kernelspec": {
   "display_name": "Python 3",
   "language": "python",
   "name": "python3"
  },
  "language_info": {
   "codemirror_mode": {
    "name": "ipython",
    "version": 3
   },
   "file_extension": ".py",
   "mimetype": "text/x-python",
   "name": "python",
   "nbconvert_exporter": "python",
   "pygments_lexer": "ipython3",
   "version": "3.7.2"
  }
 },
 "nbformat": 4,
 "nbformat_minor": 2
}
