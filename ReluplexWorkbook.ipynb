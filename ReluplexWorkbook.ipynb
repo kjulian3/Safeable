{
 "cells": [
  {
   "cell_type": "code",
   "execution_count": null,
   "metadata": {},
   "outputs": [],
   "source": [
    "import numpy as np\n",
    "from safeable import *\n",
    "from advisoryParams import *\n",
    "from reluplexFunctions import *\n",
    "\n",
    "%load_ext autoreload\n",
    "%autoreload 2\n",
    "%matplotlib inline"
   ]
  },
  {
   "cell_type": "markdown",
   "metadata": {},
   "source": [
    "### Example for running reluplex to check regions"
   ]
  },
  {
   "cell_type": "code",
   "execution_count": null,
   "metadata": {},
   "outputs": [],
   "source": [
    "pra=COC\n",
    "ra=DES1500\n",
    "vmin = 0\n",
    "vmax = 2\n",
    "overApprox = False\n",
    "dt = 0.25\n",
    "checkRegion(pra,ra,vmin,vmax,overApprox=overApprox,dt=dt)"
   ]
  },
  {
   "cell_type": "code",
   "execution_count": null,
   "metadata": {},
   "outputs": [],
   "source": [
    "#### DEBUG #####\n",
    "ra=CL1500\n",
    "overApprox = True\n",
    "checkRegion(pra,ra,vmin,vmax,overApprox=overApprox,dt=dt)"
   ]
  }
 ],
 "metadata": {
  "kernelspec": {
   "display_name": "Python 3",
   "language": "python",
   "name": "python3"
  },
  "language_info": {
   "codemirror_mode": {
    "name": "ipython",
    "version": 3
   },
   "file_extension": ".py",
   "mimetype": "text/x-python",
   "name": "python",
   "nbconvert_exporter": "python",
   "pygments_lexer": "ipython3",
   "version": "3.5.0"
  }
 },
 "nbformat": 4,
 "nbformat_minor": 2
}
